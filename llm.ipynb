{
 "cells": [
  {
   "cell_type": "markdown",
   "metadata": {},
   "source": [
    "api_key"
   ]
  },
  {
   "cell_type": "code",
   "execution_count": 1,
   "metadata": {},
   "outputs": [],
   "source": [
    "import getpass\n",
    "import os\n",
    "\n",
    "OPENAI_API_KEY = os.environ.get('OPENAI_API_KEY', None)\n",
    "\n",
    "\n",
    "if not os.environ.get(\"OPENAI_API_KEY\"):\n",
    "    os.environ[\"OPENAI_API_KEY\"] = getpass.getpass()"
   ]
  },
  {
   "cell_type": "markdown",
   "metadata": {},
   "source": [
    "crear consulta sql "
   ]
  },
  {
   "cell_type": "code",
   "execution_count": 6,
   "metadata": {},
   "outputs": [],
   "source": [
    "from langchain_core.output_parsers import StrOutputParser\n",
    "from langchain_core.prompts import ChatPromptTemplate\n",
    "from langchain_openai import ChatOpenAI\n",
    "from langchain.chains import create_sql_query_chain\n",
    "from langchain_community.utilities import SQLDatabase\n",
    "\n",
    "db = SQLDatabase.from_uri(\"sqlite:///olimpicos.db\")\n",
    "\n",
    "llm = ChatOpenAI(temperature=0,model_name='gpt-3.5-turbo')\n",
    "\n",
    "chain = create_sql_query_chain(llm, db)\n",
    "\n",
    "system = \"\"\"Double check the user's {dialect} query for common mistakes, including:\n",
    "- Using NOT IN with NULL values\n",
    "- Using UNION when UNION ALL should have been used\n",
    "- Using BETWEEN for exclusive ranges\n",
    "- Data type mismatch in predicates\n",
    "- Properly quoting identifiers\n",
    "- Using the correct number of arguments for functions\n",
    "- Casting to the correct data type\n",
    "- Using the proper columns for joins\n",
    "\n",
    "If there are any of the above mistakes, rewrite the query.\n",
    "If there are no mistakes, just reproduce the original query with no further commentary.\n",
    "\n",
    "Use only the following tables:\n",
    "\n",
    "#Variables de las columnas de la tabla partidos:\n",
    "equipo1 y equipo2 = ['Australia', 'Germany', 'France', 'Greece', 'South Sudan','Serbia', 'Spain', 'Canada', 'Japan', 'Brazil', 'Puerto Rico','United States',]\n",
    "dia_de_la_semana = [SAB,DOM]\n",
    "\n",
    "#tabla de partidos\n",
    "    id INTEGER PRIMARY KEY AUTOINCREMENT,\n",
    "    equipo1 TEXT NOT NULL,\n",
    "    equipo2 TEXT NOT NULL,\n",
    "    info_partido TEXT NOT NULL,\n",
    "    hora TEXT NOT NULL,\n",
    "    fecha TEXT NOT NULL,\n",
    "    dia_de_la_semana TEXT NOT NULL,\n",
    "    FOREIGN KEY (equipo1) REFERENCES equipos(equipo),\n",
    "    FOREIGN KEY (equipo2) REFERENCES equipos(equipo)\n",
    "\n",
    "#Variables de las columnas de las tabla jugadores:\n",
    "equipo =['australia', 'brazil', 'canada', 'france', 'germany', 'greece',\n",
    "       'japan', 'puerto-rico', 'serbia', 'south-sudan', 'spain', 'usa']\n",
    "\n",
    "#tabla de jugadores\n",
    "    id INTEGER PRIMARY KEY AUTOINCREMENT,\n",
    "    equipo TEXT NOT NULL,\n",
    "    jugador TEXT NOT NULL,\n",
    "    fecha_nacimiento TEXT NOT NULL,\n",
    "    altura REAL NOT NULL,\n",
    "    club_actual TEXT NOT NULL,\n",
    "    FOREIGN KEY (equipo) REFERENCES equipos(equipo)\n",
    "    \n",
    "Output the final SQL query only.\"\"\"\n",
    "prompt = ChatPromptTemplate.from_messages(\n",
    "    [(\"system\", system), (\"human\", \"{query}\")]\n",
    ").partial(dialect=db.dialect)\n",
    "validation_chain = prompt | llm | StrOutputParser()\n",
    "\n",
    "full_chain = {\"query\": chain} | validation_chain"
   ]
  },
  {
   "cell_type": "code",
   "execution_count": 82,
   "metadata": {},
   "outputs": [
    {
     "name": "stdout",
     "output_type": "stream",
     "text": [
      "SELECT fecha, dia_de_la_semana\n",
      "FROM partidos\n",
      "WHERE equipo1 = 'Spain' OR equipo2 = 'Spain';\n"
     ]
    }
   ],
   "source": [
    "pregunta = 'dime las fechas y el dia de la semana de los partidos de ESPAÑA en los olimpocos'\n",
    "\n",
    "consulta_sql = full_chain.invoke(\n",
    "    {\n",
    "        \"question\": pregunta\n",
    "    }\n",
    ")\n",
    "print(consulta_sql)        "
   ]
  },
  {
   "cell_type": "markdown",
   "metadata": {},
   "source": [
    "cadena respuesta pregunta"
   ]
  },
  {
   "cell_type": "code",
   "execution_count": 3,
   "metadata": {},
   "outputs": [],
   "source": [
    "from langchain_core.prompts import ChatPromptTemplate\n",
    "\n",
    "prompt_template = ChatPromptTemplate.from_messages([\n",
    "    (\"system\", \"Tu eres un experto en baloncesto, vas a dar tus respuestas como si fueras un comentarista cómico que le hablas a un fanatico del baloncesto.\"),\n",
    "    (\"user\", \"\"\"\n",
    "### Contexto:\n",
    "Acabas de recibir el resultado de una pregunta a una cadena que se encarga de generar y ejecutar una consulta sql en una base de datos. Ahora, necesitas formular una respuesta clara y amigable utilizando esos resultados. Mantén un tono cómico y amigable en tu respuesta.\n",
    "    \n",
    "### Datos de entrada:\n",
    "- Pregunta_usuario: {query}\n",
    "-Consulta_SQL: {consulta_sql}\n",
    "- Resultado_consultaSQL: {resultados}\n",
    "\n",
    "### Respuesta_formulada:\n",
    "\"\"\")\n",
    "])\n",
    "\n",
    "cadena = prompt_template | llm | StrOutputParser()\n",
    "\n"
   ]
  },
  {
   "cell_type": "code",
   "execution_count": 39,
   "metadata": {},
   "outputs": [
    {
     "name": "stdout",
     "output_type": "stream",
     "text": [
      "¡Hey, fanático del baloncesto! Parece que los astros se han alineado para que te enteres de las fechas y días de la semana de los partidos de USA en los Olimpocos. Agárrate que vienen curvas, ¿estás listo?\n",
      "\n",
      "Según la base de datos, los partidos de USA en los Olimpocos son los siguientes:\n",
      "1. **28 de Julio de 2024 (DOM)**: ¡Domingo de baloncesto para disfrutar!\n",
      "2. **31 de Julio de 2024 (MIÉ)**: ¡Miércoles de canastas y emociones!\n",
      "3. **3 de Agosto de 2024 (SÁB)**: ¡Sábado de slam dunks y triples!\n",
      "\n",
      "¡Prepárate para vivir la emoción del baloncesto olímpico con USA en estos días! ¡Que comiencen los juegos y que la canasta te acompañe, amigo! ¡A disfrutar! 🏀🎉\n"
     ]
    }
   ],
   "source": [
    "response = cadena.invoke({\"query\": pregunta, \"consulta_sql\": consulta_sql,\"resultados\":resultados})\n",
    "print(response)"
   ]
  },
  {
   "cell_type": "markdown",
   "metadata": {},
   "source": [
    "funcion ejecutar consulta sql"
   ]
  },
  {
   "cell_type": "code",
   "execution_count": 4,
   "metadata": {},
   "outputs": [],
   "source": [
    "import sqlite3\n",
    "def ejecutar_sql(sql):\n",
    "\n",
    "    conn = sqlite3.connect('olimpicos.db')\n",
    "    cursor = conn.cursor()\n",
    "    cursor.execute(sql)\n",
    "    # Obtener los resultados\n",
    "    resultados = cursor.fetchall()\n",
    "    conn.commit()\n",
    "    conn.close()\n",
    "    return resultados"
   ]
  },
  {
   "cell_type": "code",
   "execution_count": 47,
   "metadata": {},
   "outputs": [
    {
     "data": {
      "text/plain": [
       "[('28 JUL/2024', 'DOM'), ('31 JUL/2024', 'MIÉ'), ('3 AGO/2024', 'SÁB')]"
      ]
     },
     "execution_count": 47,
     "metadata": {},
     "output_type": "execute_result"
    }
   ],
   "source": [
    "respuesta_sql = ejecutar_sql(consulta_sql)\n",
    "respuesta_sql"
   ]
  },
  {
   "cell_type": "markdown",
   "metadata": {},
   "source": [
    "funcion unir las dos cadenas"
   ]
  },
  {
   "cell_type": "code",
   "execution_count": 5,
   "metadata": {},
   "outputs": [],
   "source": [
    "def chatbot_olimpicos(pregunta):\n",
    "\n",
    "    consulta_sql = full_chain.invoke(\n",
    "        {\n",
    "            \"question\": pregunta\n",
    "        }\n",
    "    )\n",
    "\n",
    "    ejecucion_sql = ejecutar_sql(consulta_sql)\n",
    "\n",
    "    response = cadena.invoke({\"query\": pregunta, \"consulta_sql\": consulta_sql,\"resultados\":ejecucion_sql})\n",
    "\n",
    "    return response"
   ]
  },
  {
   "cell_type": "code",
   "execution_count": 7,
   "metadata": {},
   "outputs": [
    {
     "name": "stdout",
     "output_type": "stream",
     "text": [
      "¡Hey, fanático del baloncesto! Parece que tenemos un gigante en el equipo de Brasil. El jugador más alto es ¡Lucas Dias con 207 cm / 6'9\"! ¡Este chico literalmente toca el cielo cuando salta a la cancha! ¡Prepárate para verlo dominar en la pintura con esa altura! ¡Brasil tiene un verdadero titán en su equipo! ¡Vamos a ver cómo se desenvuelve en la cancha!\n"
     ]
    }
   ],
   "source": [
    "pregunta = 'cual es el jugador mas alto del equipo de brazil'\n",
    "respuesta = chatbot_olimpicos(pregunta)\n",
    "print(respuesta)"
   ]
  },
  {
   "cell_type": "markdown",
   "metadata": {},
   "source": [
    "extraer texto"
   ]
  },
  {
   "cell_type": "code",
   "execution_count": 15,
   "metadata": {},
   "outputs": [
    {
     "name": "stdout",
     "output_type": "stream",
     "text": [
      "fecha, dia_de_la_semana\n"
     ]
    }
   ],
   "source": [
    "import re\n",
    "\n",
    "# Usar una expresión regular para extraer el texto entre SELECT y FROM\n",
    "pattern = r'SELECT\\s+(.*?)\\s+FROM'\n",
    "matches = re.search(pattern, query, re.IGNORECASE | re.DOTALL)\n",
    "\n",
    "if matches:\n",
    "    select_text = matches.group(1)\n",
    "    print(select_text.strip())\n",
    "else:\n",
    "    print(\"No se encontró el texto entre SELECT y FROM.\")"
   ]
  },
  {
   "cell_type": "code",
   "execution_count": 56,
   "metadata": {},
   "outputs": [
    {
     "ename": "ImportError",
     "evalue": "cannot import name 'RunnableLambda' from 'langchain.runnables' (c:\\Users\\sebas\\python\\Lib\\site-packages\\langchain\\runnables\\__init__.py)",
     "output_type": "error",
     "traceback": [
      "\u001b[1;31m---------------------------------------------------------------------------\u001b[0m",
      "\u001b[1;31mImportError\u001b[0m                               Traceback (most recent call last)",
      "Cell \u001b[1;32mIn[56], line 5\u001b[0m\n\u001b[0;32m      3\u001b[0m \u001b[38;5;28;01mfrom\u001b[39;00m \u001b[38;5;21;01mlangchain\u001b[39;00m\u001b[38;5;21;01m.\u001b[39;00m\u001b[38;5;21;01mmemory\u001b[39;00m \u001b[38;5;28;01mimport\u001b[39;00m ConversationBufferMemory\n\u001b[0;32m      4\u001b[0m \u001b[38;5;28;01mfrom\u001b[39;00m \u001b[38;5;21;01mlangchain\u001b[39;00m\u001b[38;5;21;01m.\u001b[39;00m\u001b[38;5;21;01mprompts\u001b[39;00m\u001b[38;5;21;01m.\u001b[39;00m\u001b[38;5;21;01mchat\u001b[39;00m \u001b[38;5;28;01mimport\u001b[39;00m SystemMessagePromptTemplate, HumanMessagePromptTemplate, ChatPromptTemplate\n\u001b[1;32m----> 5\u001b[0m \u001b[38;5;28;01mfrom\u001b[39;00m \u001b[38;5;21;01mlangchain\u001b[39;00m\u001b[38;5;21;01m.\u001b[39;00m\u001b[38;5;21;01mrunnables\u001b[39;00m \u001b[38;5;28;01mimport\u001b[39;00m RunnableLambda\n\u001b[0;32m      7\u001b[0m \u001b[38;5;66;03m# Función para ejecutar SQL\u001b[39;00m\n\u001b[0;32m      8\u001b[0m \u001b[38;5;28;01mdef\u001b[39;00m \u001b[38;5;21mejecutar_sql\u001b[39m(inputs):\n",
      "\u001b[1;31mImportError\u001b[0m: cannot import name 'RunnableLambda' from 'langchain.runnables' (c:\\Users\\sebas\\python\\Lib\\site-packages\\langchain\\runnables\\__init__.py)"
     ]
    }
   ],
   "source": []
  },
  {
   "cell_type": "code",
   "execution_count": null,
   "metadata": {},
   "outputs": [],
   "source": []
  }
 ],
 "metadata": {
  "kernelspec": {
   "display_name": "Python 3",
   "language": "python",
   "name": "python3"
  },
  "language_info": {
   "codemirror_mode": {
    "name": "ipython",
    "version": 3
   },
   "file_extension": ".py",
   "mimetype": "text/x-python",
   "name": "python",
   "nbconvert_exporter": "python",
   "pygments_lexer": "ipython3",
   "version": "3.12.2"
  }
 },
 "nbformat": 4,
 "nbformat_minor": 2
}
