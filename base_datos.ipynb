{
 "cells": [
  {
   "cell_type": "markdown",
   "metadata": {},
   "source": [
    "crear tablas"
   ]
  },
  {
   "cell_type": "code",
   "execution_count": 1,
   "metadata": {},
   "outputs": [],
   "source": [
    "import sqlite3\n",
    "\n",
    "# Conectar a la base de datos (o crearla si no existe)\n",
    "conn = sqlite3.connect('olimpicos.db')\n",
    "cursor = conn.cursor()\n",
    "\n",
    "# Crear la tabla de equipos con la columna ranking_mundial\n",
    "cursor.execute('''\n",
    "    CREATE TABLE IF NOT EXISTS equipos (\n",
    "        id INTEGER PRIMARY KEY AUTOINCREMENT,\n",
    "        equipo TEXT NOT NULL,\n",
    "        grupo TEXT NOT NULL\n",
    "    )\n",
    "''')\n",
    "\n",
    "# Crear la tabla de partidos con la columna dia_de_la_semana\n",
    "cursor.execute('''\n",
    "    CREATE TABLE IF NOT EXISTS partidos (\n",
    "        id INTEGER PRIMARY KEY AUTOINCREMENT,\n",
    "        equipo1 TEXT NOT NULL,\n",
    "        equipo2 TEXT NOT NULL,\n",
    "        info_partido TEXT NOT NULL,\n",
    "        hora TEXT NOT NULL,\n",
    "        fecha TEXT NOT NULL,\n",
    "        dia_de_la_semana TEXT NOT NULL,\n",
    "        FOREIGN KEY (equipo1) REFERENCES equipos(equipo),\n",
    "        FOREIGN KEY (equipo2) REFERENCES equipos(equipo)\n",
    "    )\n",
    "''')\n",
    "\n",
    "# Crear la tabla de jugadores\n",
    "cursor.execute('''\n",
    "    CREATE TABLE IF NOT EXISTS jugadores (\n",
    "        id INTEGER PRIMARY KEY AUTOINCREMENT,\n",
    "        equipo TEXT NOT NULL,\n",
    "        jugador TEXT NOT NULL,\n",
    "        fecha_nacimiento TEXT NOT NULL,\n",
    "        altura REAL NOT NULL,\n",
    "        club_actual TEXT NOT NULL,\n",
    "        FOREIGN KEY (equipo) REFERENCES equipos(equipo)\n",
    "    )\n",
    "''')\n",
    "\n",
    "# Confirmar los cambios\n",
    "conn.commit()\n",
    "\n",
    "# Cerrar la conexión a la base de datos\n",
    "conn.close()\n"
   ]
  },
  {
   "cell_type": "markdown",
   "metadata": {},
   "source": [
    "borrar tabla"
   ]
  },
  {
   "cell_type": "code",
   "execution_count": 8,
   "metadata": {},
   "outputs": [],
   "source": [
    "import sqlite3\n",
    "\n",
    "# Conectar a la base de datos (o crearla si no existe)\n",
    "conn = sqlite3.connect('olimpicos.db')\n",
    "cursor = conn.cursor()\n",
    "\n",
    "# Eliminar la tabla partidos si existe\n",
    "cursor.execute('DROP TABLE IF EXISTS partidos')\n",
    "\n",
    "# Confirmar los cambios\n",
    "conn.commit()\n",
    "\n",
    "# Cerrar la conexión a la base de datos\n",
    "conn.close()\n"
   ]
  },
  {
   "cell_type": "code",
   "execution_count": 15,
   "metadata": {},
   "outputs": [
    {
     "name": "stdout",
     "output_type": "stream",
     "text": [
      "   id      equipo1      equipo2              info_partido   hora        fecha  \\\n",
      "0   1    Australia        Spain  FASE DE GRUPOS · GRUPO A  04:00  27 JUL/2024   \n",
      "1   2      Germany        Japan  FASE DE GRUPOS · GRUPO B  06:30  27 JUL/2024   \n",
      "2   3       France       Brazil  FASE DE GRUPOS · GRUPO B  10:15  27 JUL/2024   \n",
      "3   4       Greece       Canada  FASE DE GRUPOS · GRUPO A  14:00  27 JUL/2024   \n",
      "4   5  South Sudan  Puerto Rico  FASE DE GRUPOS · GRUPO C  04:00  28 JUL/2024   \n",
      "\n",
      "  dia_de_la_semana  \n",
      "0              SÁB  \n",
      "1              SÁB  \n",
      "2              SÁB  \n",
      "3              SÁB  \n",
      "4              DOM  \n"
     ]
    }
   ],
   "source": [
    "import sqlite3\n",
    "import pandas as pd\n",
    "\n",
    "# Conectar a la base de datos\n",
    "conn = sqlite3.connect('olimpicos.db')\n",
    "\n",
    "# Leer la tabla 'partidos' en un DataFrame de pandas\n",
    "df = pd.read_sql_query(\"SELECT * FROM partidos\", conn)\n",
    "\n",
    "# Mostrar las primeras filas del DataFrame\n",
    "print(df.head())\n",
    "\n",
    "# Cerrar la conexión a la base de datos\n",
    "conn.close()\n"
   ]
  },
  {
   "cell_type": "code",
   "execution_count": 17,
   "metadata": {},
   "outputs": [
    {
     "data": {
      "text/plain": [
       "array(['Australia', 'Germany', 'France', 'Greece', 'South Sudan',\n",
       "       'Serbia', 'Spain', 'Canada', 'Japan', 'Brazil', 'Puerto Rico',\n",
       "       'United States', 'TBD'], dtype=object)"
      ]
     },
     "execution_count": 17,
     "metadata": {},
     "output_type": "execute_result"
    },
    {
     "ename": "",
     "evalue": "",
     "output_type": "error",
     "traceback": [
      "\u001b[1;31mThe Kernel crashed while executing code in the current cell or a previous cell. \n",
      "\u001b[1;31mPlease review the code in the cell(s) to identify a possible cause of the failure. \n",
      "\u001b[1;31mClick <a href='https://aka.ms/vscodeJupyterKernelCrash'>here</a> for more info. \n",
      "\u001b[1;31mView Jupyter <a href='command:jupyter.viewOutput'>log</a> for further details."
     ]
    }
   ],
   "source": [
    "df['equipo1'].unique()"
   ]
  },
  {
   "cell_type": "code",
   "execution_count": 13,
   "metadata": {},
   "outputs": [
    {
     "name": "stdout",
     "output_type": "stream",
     "text": [
      "    id        equipo1        equipo2              info_partido         hora  \\\n",
      "0    1      Australia          Spain  FASE DE GRUPOS · GRUPO A        04:00   \n",
      "1    2        Germany          Japan  FASE DE GRUPOS · GRUPO B        06:30   \n",
      "2    3         France         Brazil  FASE DE GRUPOS · GRUPO B        10:15   \n",
      "3    4         Greece         Canada  FASE DE GRUPOS · GRUPO A        14:00   \n",
      "4    5    South Sudan    Puerto Rico  FASE DE GRUPOS · GRUPO C        04:00   \n",
      "5    6         Serbia  United States  FASE DE GRUPOS · GRUPO C        10:15   \n",
      "6    7          Spain         Greece  FASE DE GRUPOS · GRUPO A        04:00   \n",
      "7    8         Canada      Australia  FASE DE GRUPOS · GRUPO A        06:30   \n",
      "8    9          Japan         France  FASE DE GRUPOS · GRUPO B        10:15   \n",
      "9   10         Brazil        Germany  FASE DE GRUPOS · GRUPO B        14:00   \n",
      "10  11    Puerto Rico         Serbia  FASE DE GRUPOS · GRUPO C        10:15   \n",
      "11  12  United States    South Sudan  FASE DE GRUPOS · GRUPO C        14:00   \n",
      "12  13          Japan         Brazil  FASE DE GRUPOS · GRUPO B        04:00   \n",
      "13  14      Australia         Greece  FASE DE GRUPOS · GRUPO A        06:30   \n",
      "14  15         Canada          Spain  FASE DE GRUPOS · GRUPO A        10:15   \n",
      "15  16         France        Germany  FASE DE GRUPOS · GRUPO B        14:00   \n",
      "16  17    Puerto Rico  United States  FASE DE GRUPOS · GRUPO C        10:15   \n",
      "17  18         Serbia    South Sudan  FASE DE GRUPOS · GRUPO C        14:00   \n",
      "18  19            TBD            TBD            QUARTER-FINALS  Por definir   \n",
      "19  20            TBD            TBD            QUARTER-FINALS  Por definir   \n",
      "20  21            TBD            TBD            QUARTER-FINALS  Por definir   \n",
      "21  22            TBD            TBD            QUARTER-FINALS  Por definir   \n",
      "22  23            TBD            TBD               SEMIFINALES  Por definir   \n",
      "23  24            TBD            TBD               SEMIFINALES  Por definir   \n",
      "24  25            TBD            TBD            3RD PLACE GAME        04:00   \n",
      "25  26            TBD            TBD                     FINAL        14:30   \n",
      "\n",
      "          fecha dia_de_la_semana  \n",
      "0   27 JUL/2024              SÁB  \n",
      "1   27 JUL/2024              SÁB  \n",
      "2   27 JUL/2024              SÁB  \n",
      "3   27 JUL/2024              SÁB  \n",
      "4   28 JUL/2024              DOM  \n",
      "5   28 JUL/2024              DOM  \n",
      "6   30 JUL/2024              MAR  \n",
      "7   30 JUL/2024              MAR  \n",
      "8   30 JUL/2024              MAR  \n",
      "9   30 JUL/2024              MAR  \n",
      "10  31 JUL/2024              MIÉ  \n",
      "11  31 JUL/2024              MIÉ  \n",
      "12   2 AGO/2024              VIE  \n",
      "13   2 AGO/2024              VIE  \n",
      "14   2 AGO/2024              VIE  \n",
      "15   2 AGO/2024              VIE  \n",
      "16   3 AGO/2024              SÁB  \n",
      "17   3 AGO/2024              SÁB  \n",
      "18   6 AGO/2024              MAR  \n",
      "19   6 AGO/2024              MAR  \n",
      "20   6 AGO/2024              MAR  \n",
      "21   6 AGO/2024              MAR  \n",
      "22   8 AGO/2024              JUE  \n",
      "23   8 AGO/2024              JUE  \n",
      "24  10 AGO/2024              SÁB  \n",
      "25  10 AGO/2024              SÁB  \n"
     ]
    }
   ],
   "source": [
    "import pandas as pd\n",
    "\n",
    "# Diccionario para la conversión de abreviaturas a nombres completos\n",
    "pais_dict = {\n",
    "    'AUS': 'Australia',\n",
    "    'GER': 'Alemania',\n",
    "    'FRA': 'Francia',\n",
    "    'GRE': 'Grecia',\n",
    "    'SSD': 'sudan del sur',\n",
    "    'SRB': 'Serbia',\n",
    "    'ESP': 'España',\n",
    "    'CAN': 'Canada',\n",
    "    'JPN': 'Japon',\n",
    "    'BRA': 'Brazil',\n",
    "    'PUR': 'Puerto Rico',\n",
    "    'USA': 'Estados Unidos'\n",
    "}\n",
    "\n",
    "def convertir_abreviaturas(df):\n",
    "    \"\"\"\n",
    "    Convierte las abreviaturas de países en nombres completos en las columnas 'equipo1' y 'equipo2' de un DataFrame.\n",
    "\n",
    "    Args:\n",
    "        df (pd.DataFrame): DataFrame que contiene las columnas 'equipo1' y 'equipo2' con abreviaturas de países.\n",
    "\n",
    "    Returns:\n",
    "        pd.DataFrame: DataFrame con las abreviaturas reemplazadas por nombres completos.\n",
    "    \"\"\"\n",
    "    # Reemplazar abreviaturas en las columnas 'equipo1' y 'equipo2'\n",
    "    df['equipo1'] = df['equipo1'].map(pais_dict).fillna(df['equipo1'])\n",
    "    df['equipo2'] = df['equipo2'].map(pais_dict).fillna(df['equipo2'])\n",
    "    \n",
    "    return df\n",
    "\n",
    "paices = pd.DataFrame(df)\n",
    "\n",
    "# Aplicar la función de conversión\n",
    "df_convertido = convertir_abreviaturas(df)\n",
    "\n",
    "print(df_convertido)\n"
   ]
  },
  {
   "cell_type": "markdown",
   "metadata": {},
   "source": [
    "añadir datos"
   ]
  },
  {
   "cell_type": "code",
   "execution_count": 11,
   "metadata": {},
   "outputs": [],
   "source": [
    "import re\n",
    "import sqlite3\n",
    "import pandas as pd\n",
    "\n",
    "def insertar_datos_en_sqlite(db_name, table_name, dataframe):\n",
    "    \"\"\"\n",
    "    Inserta los datos de un DataFrame en una tabla SQLite.\n",
    "\n",
    "    :param db_name: Nombre de la base de datos SQLite.\n",
    "    :param table_name: Nombre de la tabla en la base de datos.\n",
    "    :param dataframe: DataFrame con los datos a insertar.\n",
    "    \"\"\"\n",
    "    # Conectar a la base de datos SQLite\n",
    "    conn = sqlite3.connect(db_name)\n",
    "    cursor = conn.cursor()\n",
    "\n",
    "    # Iniciar una transacción\n",
    "    cursor.execute('BEGIN TRANSACTION')\n",
    "\n",
    "    # Función para encerrar entre comillas los nombres de columnas que lo necesiten\n",
    "    def quote_identifier(s):\n",
    "        return f'\"{s}\"' if re.match(r'^[0-9]', s) or ' ' in s or s.upper() in ['TO', 'FROM', 'WHERE', 'GROUP', 'ORDER'] else s\n",
    "\n",
    "    # Crear una lista de nombres de columnas con los identificadores apropiadamente citados\n",
    "    columnas = [quote_identifier(col) for col in dataframe.columns]\n",
    "\n",
    "    # Crear la parte de los valores de la consulta SQL\n",
    "    valores = ', '.join(['?' for _ in dataframe.columns])\n",
    "\n",
    "    # Crear la consulta SQL\n",
    "    sql = f\"INSERT INTO {table_name} ({', '.join(columnas)}) VALUES ({valores})\"\n",
    "\n",
    "    # Iterar sobre las filas del DataFrame\n",
    "    for _, fila in dataframe.iterrows():\n",
    "        # Ejecutar la consulta SQL con los valores de la fila\n",
    "        cursor.execute(sql, tuple(fila))\n",
    "\n",
    "    # Confirmar la transacción\n",
    "    conn.commit()\n",
    "\n",
    "    # Cerrar la conexión\n",
    "    conn.close()"
   ]
  },
  {
   "cell_type": "code",
   "execution_count": 12,
   "metadata": {},
   "outputs": [],
   "source": [
    "insertar_datos_en_sqlite('olimpicos.db', 'partidos', df_convertido)"
   ]
  }
 ],
 "metadata": {
  "kernelspec": {
   "display_name": "Python 3",
   "language": "python",
   "name": "python3"
  },
  "language_info": {
   "codemirror_mode": {
    "name": "ipython",
    "version": 3
   },
   "file_extension": ".py",
   "mimetype": "text/x-python",
   "name": "python",
   "nbconvert_exporter": "python",
   "pygments_lexer": "ipython3",
   "version": "3.12.2"
  }
 },
 "nbformat": 4,
 "nbformat_minor": 2
}
